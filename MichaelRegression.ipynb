{
 "cells": [
  {
   "cell_type": "code",
   "execution_count": 257,
   "id": "a4cde1a1",
   "metadata": {},
   "outputs": [],
   "source": [
    "import numpy as np\n",
    "import pandas as pd\n",
    "from sklearn.linear_model import LogisticRegression\n",
    "from sklearn.model_selection import GridSearchCV\n",
    "from matplotlib import pyplot as plt\n",
    "import statsmodels.api as sm"
   ]
  },
  {
   "cell_type": "code",
   "execution_count": 258,
   "id": "428e8b90",
   "metadata": {},
   "outputs": [],
   "source": [
    "# Additional data cleaning\n",
    "X = pd.read_csv(\"cleaned_with_salaries.csv\")\n",
    "\n",
    "X = X[['meanschooladministratorsalaryind', 'administratortoteachermeansalary', \n",
    "       'students_11_12', 'gradrate', 'charter', 'attendance22', 'male_2022_p', \n",
    "       'attendance_2022_minority_p', 'economicallydisadvantaged_2022_p', 'log_students',]]\n",
    "# I took out district and attendance21 for collinearity purposes\n",
    "# Included male, minority attendance, economically disadvantaged\n",
    "\n",
    "# Some attendance values are null. These will be dropped\n",
    "X = X.dropna()\n",
    "y_rate = X['gradrate'].copy()\n",
    "\n",
    "# Define average graduation rates\n",
    "NATIONAL_GRAD_RATE = .87\n",
    "UTAH_GRAD_RATE = .882\n",
    "y = y_rate > UTAH_GRAD_RATE\n",
    "\n",
    "# Remove the graduation rate column from X\n",
    "del X['gradrate']\n",
    "\n",
    "# Define the sample weights based on the number of 11th and 12th graders students_11_12\n",
    "weights = X['students_11_12'] / X['students_11_12'].sum()\n",
    "# Remove the population column\n",
    "del X['students_11_12']"
   ]
  },
  {
   "cell_type": "markdown",
   "id": "35db743a",
   "metadata": {},
   "source": [
    "### Graduation Rates\n",
    "\n",
    "Our final analysis studies a school's graduation rate as the target variable. Graduation rates are expressed as a percentage, so each $y_i \\in [0,1]$. As such, a logistic regression would be more appropriate to model the data. In order to do this, we split our target data around the average high school graduation rate in Utah [https://www.schools.utah.gov/file/f40bd425-7583-4b56-8835-473a97b75326#:~:text=Graduation%20Rate%20Highlights,-%E2%80%A2&text=Utah's%20state%20graduation%20rate%20for%20the%202022%20cohort%20is%2088.2%25.&text=Five%20of%20the%20nine%20reported,their%20graduation%20rate%20from%202021.&text=A%20total%20of%2045432%20students%20graduated%20from%20Utah's%20high%20schools.&text=Utah's%20graduation%20rate%20has%20increased,2021%20to%2088.2%25%20in%202022.], which is 0.882. Therefore, our target variable is \n",
    "\n",
    "$$ \\tilde{y_i} = \n",
    "\\begin{cases} \n",
    "    1 & y_i \\geq 0.882 \\\\\n",
    "    0 & y_i < 0.882 \n",
    "\\end{cases}\n",
    "$$\n",
    "\n",
    "Any $\\tilde{y_i} = 1$ corresponds to a high school with an above-average graduation rate, while a $\\tilde{y_i} = 0$ corresponds to a below-average graduation rate.\n",
    "\n",
    "We use the following features for our model: mean school administrator salary indicator, administrator to teacher mean salary, an indicator for whether the school is a charter school, the attendance rates for all students, the male attendance rate, the attendance rate of minority students, the attendance rate of economically disadvantaged students, and the logarithm of the total number of students in the school. As before, our model was weighted by student population. Additionally, a regularization constant of 0.5 was included. Our results are as follows:"
   ]
  },
  {
   "cell_type": "code",
   "execution_count": 260,
   "id": "f652e63d",
   "metadata": {},
   "outputs": [
    {
     "data": {
      "text/html": [
       "<table class=\"simpletable\">\n",
       "<caption>Logit Regression Results</caption>\n",
       "<tr>\n",
       "  <th>Dep. Variable:</th>       <td>gradrate</td>     <th>  No. Observations:  </th>  <td>   129</td>  \n",
       "</tr>\n",
       "<tr>\n",
       "  <th>Model:</th>                 <td>Logit</td>      <th>  Df Residuals:      </th>  <td>   120</td>  \n",
       "</tr>\n",
       "<tr>\n",
       "  <th>Method:</th>                 <td>MLE</td>       <th>  Df Model:          </th>  <td>     8</td>  \n",
       "</tr>\n",
       "<tr>\n",
       "  <th>Date:</th>            <td>Mon, 04 Dec 2023</td> <th>  Pseudo R-squ.:     </th>  <td>0.2201</td>  \n",
       "</tr>\n",
       "<tr>\n",
       "  <th>Time:</th>                <td>21:43:56</td>     <th>  Log-Likelihood:    </th> <td> -68.855</td> \n",
       "</tr>\n",
       "<tr>\n",
       "  <th>converged:</th>             <td>True</td>       <th>  LL-Null:           </th> <td> -88.293</td> \n",
       "</tr>\n",
       "<tr>\n",
       "  <th>Covariance Type:</th>     <td>nonrobust</td>    <th>  LLR p-value:       </th> <td>5.186e-06</td>\n",
       "</tr>\n",
       "</table>\n",
       "<table class=\"simpletable\">\n",
       "<tr>\n",
       "                  <td></td>                    <th>coef</th>     <th>std err</th>      <th>z</th>      <th>P>|z|</th>  <th>[0.025</th>    <th>0.975]</th>  \n",
       "</tr>\n",
       "<tr>\n",
       "  <th>const</th>                            <td>  -20.6017</td> <td>    7.238</td> <td>   -2.846</td> <td> 0.004</td> <td>  -34.788</td> <td>   -6.415</td>\n",
       "</tr>\n",
       "<tr>\n",
       "  <th>meanschooladministratorsalaryind</th> <td>-7.007e-06</td> <td> 1.31e-05</td> <td>   -0.537</td> <td> 0.591</td> <td>-3.26e-05</td> <td> 1.86e-05</td>\n",
       "</tr>\n",
       "<tr>\n",
       "  <th>administratortoteachermeansalary</th> <td>   -0.5816</td> <td>    0.558</td> <td>   -1.042</td> <td> 0.297</td> <td>   -1.675</td> <td>    0.512</td>\n",
       "</tr>\n",
       "<tr>\n",
       "  <th>charter</th>                          <td>   -0.9840</td> <td>    0.637</td> <td>   -1.545</td> <td> 0.122</td> <td>   -2.232</td> <td>    0.264</td>\n",
       "</tr>\n",
       "<tr>\n",
       "  <th>attendance22</th>                     <td>   25.8756</td> <td>    7.589</td> <td>    3.410</td> <td> 0.001</td> <td>   11.002</td> <td>   40.749</td>\n",
       "</tr>\n",
       "<tr>\n",
       "  <th>male_2022_p</th>                      <td>   -2.4351</td> <td>    3.727</td> <td>   -0.653</td> <td> 0.514</td> <td>   -9.741</td> <td>    4.871</td>\n",
       "</tr>\n",
       "<tr>\n",
       "  <th>attendance_2022_minority_p</th>       <td>   -1.2526</td> <td>    1.310</td> <td>   -0.956</td> <td> 0.339</td> <td>   -3.820</td> <td>    1.315</td>\n",
       "</tr>\n",
       "<tr>\n",
       "  <th>economicallydisadvantaged_2022_p</th> <td>   -1.0508</td> <td>    1.260</td> <td>   -0.834</td> <td> 0.404</td> <td>   -3.521</td> <td>    1.419</td>\n",
       "</tr>\n",
       "<tr>\n",
       "  <th>log_students</th>                     <td>    0.1684</td> <td>    0.220</td> <td>    0.765</td> <td> 0.444</td> <td>   -0.263</td> <td>    0.600</td>\n",
       "</tr>\n",
       "</table>"
      ],
      "text/latex": [
       "\\begin{center}\n",
       "\\begin{tabular}{lclc}\n",
       "\\toprule\n",
       "\\textbf{Dep. Variable:}                     &     gradrate     & \\textbf{  No. Observations:  } &      129    \\\\\n",
       "\\textbf{Model:}                             &      Logit       & \\textbf{  Df Residuals:      } &      120    \\\\\n",
       "\\textbf{Method:}                            &       MLE        & \\textbf{  Df Model:          } &        8    \\\\\n",
       "\\textbf{Date:}                              & Mon, 04 Dec 2023 & \\textbf{  Pseudo R-squ.:     } &   0.2201    \\\\\n",
       "\\textbf{Time:}                              &     21:43:56     & \\textbf{  Log-Likelihood:    } &   -68.855   \\\\\n",
       "\\textbf{converged:}                         &       True       & \\textbf{  LL-Null:           } &   -88.293   \\\\\n",
       "\\textbf{Covariance Type:}                   &    nonrobust     & \\textbf{  LLR p-value:       } & 5.186e-06   \\\\\n",
       "\\bottomrule\n",
       "\\end{tabular}\n",
       "\\begin{tabular}{lcccccc}\n",
       "                                            & \\textbf{coef} & \\textbf{std err} & \\textbf{z} & \\textbf{P$> |$z$|$} & \\textbf{[0.025} & \\textbf{0.975]}  \\\\\n",
       "\\midrule\n",
       "\\textbf{const}                              &     -20.6017  &        7.238     &    -2.846  &         0.004        &      -34.788    &       -6.415     \\\\\n",
       "\\textbf{meanschooladministratorsalaryind}   &   -7.007e-06  &     1.31e-05     &    -0.537  &         0.591        &    -3.26e-05    &     1.86e-05     \\\\\n",
       "\\textbf{administratortoteachermeansalary}   &      -0.5816  &        0.558     &    -1.042  &         0.297        &       -1.675    &        0.512     \\\\\n",
       "\\textbf{charter}                            &      -0.9840  &        0.637     &    -1.545  &         0.122        &       -2.232    &        0.264     \\\\\n",
       "\\textbf{attendance22}                       &      25.8756  &        7.589     &     3.410  &         0.001        &       11.002    &       40.749     \\\\\n",
       "\\textbf{male\\_2022\\_p}                      &      -2.4351  &        3.727     &    -0.653  &         0.514        &       -9.741    &        4.871     \\\\\n",
       "\\textbf{attendance\\_2022\\_minority\\_p}      &      -1.2526  &        1.310     &    -0.956  &         0.339        &       -3.820    &        1.315     \\\\\n",
       "\\textbf{economicallydisadvantaged\\_2022\\_p} &      -1.0508  &        1.260     &    -0.834  &         0.404        &       -3.521    &        1.419     \\\\\n",
       "\\textbf{log\\_students}                      &       0.1684  &        0.220     &     0.765  &         0.444        &       -0.263    &        0.600     \\\\\n",
       "\\bottomrule\n",
       "\\end{tabular}\n",
       "%\\caption{Logit Regression Results}\n",
       "\\end{center}"
      ],
      "text/plain": [
       "<class 'statsmodels.iolib.summary.Summary'>\n",
       "\"\"\"\n",
       "                           Logit Regression Results                           \n",
       "==============================================================================\n",
       "Dep. Variable:               gradrate   No. Observations:                  129\n",
       "Model:                          Logit   Df Residuals:                      120\n",
       "Method:                           MLE   Df Model:                            8\n",
       "Date:                Mon, 04 Dec 2023   Pseudo R-squ.:                  0.2201\n",
       "Time:                        21:43:56   Log-Likelihood:                -68.855\n",
       "converged:                       True   LL-Null:                       -88.293\n",
       "Covariance Type:            nonrobust   LLR p-value:                 5.186e-06\n",
       "====================================================================================================\n",
       "                                       coef    std err          z      P>|z|      [0.025      0.975]\n",
       "----------------------------------------------------------------------------------------------------\n",
       "const                              -20.6017      7.238     -2.846      0.004     -34.788      -6.415\n",
       "meanschooladministratorsalaryind -7.007e-06   1.31e-05     -0.537      0.591   -3.26e-05    1.86e-05\n",
       "administratortoteachermeansalary    -0.5816      0.558     -1.042      0.297      -1.675       0.512\n",
       "charter                             -0.9840      0.637     -1.545      0.122      -2.232       0.264\n",
       "attendance22                        25.8756      7.589      3.410      0.001      11.002      40.749\n",
       "male_2022_p                         -2.4351      3.727     -0.653      0.514      -9.741       4.871\n",
       "attendance_2022_minority_p          -1.2526      1.310     -0.956      0.339      -3.820       1.315\n",
       "economicallydisadvantaged_2022_p    -1.0508      1.260     -0.834      0.404      -3.521       1.419\n",
       "log_students                         0.1684      0.220      0.765      0.444      -0.263       0.600\n",
       "====================================================================================================\n",
       "\"\"\""
      ]
     },
     "execution_count": 260,
     "metadata": {},
     "output_type": "execute_result"
    }
   ],
   "source": [
    "# Run the optimal regression and display results\n",
    "# The alpha term is the regularization term\n",
    "log_reg = sm.Logit(y, sm.add_constant(X), weights=weights, alpha=0.5).fit(disp=False)\n",
    "log_reg.summary()"
   ]
  },
  {
   "cell_type": "markdown",
   "id": "c0803fc5",
   "metadata": {},
   "source": [
    "The above table summarizes our findings. The only variables considered to be statistically significant are the intercept and the attendance variable. All other varaibles have a p-value of at least 0.1. Male attendance, minority attendance, and economically disadvantaged attendance are negatively correlated with graduation rates, but these coefficients are statistically insignificant. More research would be needed to determine whether these variables are truly negatively correlated.\n",
    "\n",
    "It seems very intuitive that attendance is strongly correlated with graduation rates. After all, students who do not graduate high school generally don't attend frequently. Additionally, in Utah (and most other states), high school graduation requirements are such that simply attending goes a long way in helping a student graduate.\n",
    "\n",
    "To further analyze the correlation between attendance and graduation rates, we ran a simple logistic regression with attendance as the only feature. A summary and graph is included below: "
   ]
  },
  {
   "cell_type": "code",
   "execution_count": 221,
   "id": "c5c4ccf8",
   "metadata": {},
   "outputs": [
    {
     "data": {
      "text/html": [
       "<table class=\"simpletable\">\n",
       "<caption>Logit Regression Results</caption>\n",
       "<tr>\n",
       "  <th>Dep. Variable:</th>       <td>gradrate</td>     <th>  No. Observations:  </th>  <td>   129</td>  \n",
       "</tr>\n",
       "<tr>\n",
       "  <th>Model:</th>                 <td>Logit</td>      <th>  Df Residuals:      </th>  <td>   127</td>  \n",
       "</tr>\n",
       "<tr>\n",
       "  <th>Method:</th>                 <td>MLE</td>       <th>  Df Model:          </th>  <td>     1</td>  \n",
       "</tr>\n",
       "<tr>\n",
       "  <th>Date:</th>            <td>Mon, 04 Dec 2023</td> <th>  Pseudo R-squ.:     </th>  <td>0.1414</td>  \n",
       "</tr>\n",
       "<tr>\n",
       "  <th>Time:</th>                <td>21:11:13</td>     <th>  Log-Likelihood:    </th> <td> -75.806</td> \n",
       "</tr>\n",
       "<tr>\n",
       "  <th>converged:</th>             <td>True</td>       <th>  LL-Null:           </th> <td> -88.293</td> \n",
       "</tr>\n",
       "<tr>\n",
       "  <th>Covariance Type:</th>     <td>nonrobust</td>    <th>  LLR p-value:       </th> <td>5.814e-07</td>\n",
       "</tr>\n",
       "</table>\n",
       "<table class=\"simpletable\">\n",
       "<tr>\n",
       "        <td></td>          <th>coef</th>     <th>std err</th>      <th>z</th>      <th>P>|z|</th>  <th>[0.025</th>    <th>0.975]</th>  \n",
       "</tr>\n",
       "<tr>\n",
       "  <th>const</th>        <td>  -22.7610</td> <td>    6.153</td> <td>   -3.699</td> <td> 0.000</td> <td>  -34.821</td> <td>  -10.701</td>\n",
       "</tr>\n",
       "<tr>\n",
       "  <th>attendance22</th> <td>   25.0874</td> <td>    6.678</td> <td>    3.757</td> <td> 0.000</td> <td>   12.000</td> <td>   38.175</td>\n",
       "</tr>\n",
       "</table>"
      ],
      "text/latex": [
       "\\begin{center}\n",
       "\\begin{tabular}{lclc}\n",
       "\\toprule\n",
       "\\textbf{Dep. Variable:}   &     gradrate     & \\textbf{  No. Observations:  } &      129    \\\\\n",
       "\\textbf{Model:}           &      Logit       & \\textbf{  Df Residuals:      } &      127    \\\\\n",
       "\\textbf{Method:}          &       MLE        & \\textbf{  Df Model:          } &        1    \\\\\n",
       "\\textbf{Date:}            & Mon, 04 Dec 2023 & \\textbf{  Pseudo R-squ.:     } &   0.1414    \\\\\n",
       "\\textbf{Time:}            &     21:11:13     & \\textbf{  Log-Likelihood:    } &   -75.806   \\\\\n",
       "\\textbf{converged:}       &       True       & \\textbf{  LL-Null:           } &   -88.293   \\\\\n",
       "\\textbf{Covariance Type:} &    nonrobust     & \\textbf{  LLR p-value:       } & 5.814e-07   \\\\\n",
       "\\bottomrule\n",
       "\\end{tabular}\n",
       "\\begin{tabular}{lcccccc}\n",
       "                      & \\textbf{coef} & \\textbf{std err} & \\textbf{z} & \\textbf{P$> |$z$|$} & \\textbf{[0.025} & \\textbf{0.975]}  \\\\\n",
       "\\midrule\n",
       "\\textbf{const}        &     -22.7610  &        6.153     &    -3.699  &         0.000        &      -34.821    &      -10.701     \\\\\n",
       "\\textbf{attendance22} &      25.0874  &        6.678     &     3.757  &         0.000        &       12.000    &       38.175     \\\\\n",
       "\\bottomrule\n",
       "\\end{tabular}\n",
       "%\\caption{Logit Regression Results}\n",
       "\\end{center}"
      ],
      "text/plain": [
       "<class 'statsmodels.iolib.summary.Summary'>\n",
       "\"\"\"\n",
       "                           Logit Regression Results                           \n",
       "==============================================================================\n",
       "Dep. Variable:               gradrate   No. Observations:                  129\n",
       "Model:                          Logit   Df Residuals:                      127\n",
       "Method:                           MLE   Df Model:                            1\n",
       "Date:                Mon, 04 Dec 2023   Pseudo R-squ.:                  0.1414\n",
       "Time:                        21:11:13   Log-Likelihood:                -75.806\n",
       "converged:                       True   LL-Null:                       -88.293\n",
       "Covariance Type:            nonrobust   LLR p-value:                 5.814e-07\n",
       "================================================================================\n",
       "                   coef    std err          z      P>|z|      [0.025      0.975]\n",
       "--------------------------------------------------------------------------------\n",
       "const          -22.7610      6.153     -3.699      0.000     -34.821     -10.701\n",
       "attendance22    25.0874      6.678      3.757      0.000      12.000      38.175\n",
       "================================================================================\n",
       "\"\"\""
      ]
     },
     "execution_count": 221,
     "metadata": {},
     "output_type": "execute_result"
    }
   ],
   "source": [
    "attendance = X[['attendance22']]\n",
    "attendance = sm.add_constant(attendance)\n",
    "attend_model = sm.Logit(y, attendance, weights=weights, alpha=0.5).fit(disp=False)\n",
    "attend_model.summary()\n",
    "attend_model"
   ]
  },
  {
   "cell_type": "code",
   "execution_count": 256,
   "id": "c703323a",
   "metadata": {},
   "outputs": [
    {
     "data": {
      "image/png": "[encoded data removed]",
      "text/plain": [
       "<Figure size 640x480 with 1 Axes>"
      ]
     },
     "metadata": {},
     "output_type": "display_data"
    }
   ],
   "source": [
    "plt.plot(attendance, y, 'bo', markersize=2)\n",
    "domain = np.linspace(0.7,1,100)\n",
    "beta = attend_model.params.values\n",
    "model = np.vectorize(lambda x: (1 + np.exp(-1*(beta[0] + x*beta[1])))**-1)\n",
    "plt.plot(domain, model(domain), 'r-')\n",
    "plt.title(\"Logistic Regression: Attendance Rates and Graduation Rates\")\n",
    "plt.xlabel(\"Attendance Rate\")\n",
    "plt.ylabel(\"Above-Average Graduation Rate\")\n",
    "plt.show()"
   ]
  },
  {
   "cell_type": "markdown",
   "id": "89df2939",
   "metadata": {},
   "source": [
    "Again, there is a clear positive correlation between the attendance rate and whether a high school has an above-average graduation rate."
   ]
  },
  {
   "cell_type": "markdown",
   "id": "d38427c9",
   "metadata": {},
   "source": [
    "We concluded that graduation rate is not a strong indicator of student success due to the lack of standardization. Different high schools and districts have different graduation requirements, so one high school's graduation rate does not always relate well to that of another high school."
   ]
  },
  {
   "cell_type": "code",
   "execution_count": null,
   "id": "5680b7de",
   "metadata": {},
   "outputs": [],
   "source": []
  }
 ],
 "metadata": {
  "kernelspec": {
   "display_name": "Python 3 (ipykernel)",
   "language": "python",
   "name": "python3"
  },
  "language_info": {
   "codemirror_mode": {
    "name": "ipython",
    "version": 3
   },
   "file_extension": ".py",
   "mimetype": "text/x-python",
   "name": "python",
   "nbconvert_exporter": "python",
   "pygments_lexer": "ipython3",
   "version": "3.9.18"
  }
 },
 "nbformat": 4,
 "nbformat_minor": 5
}
