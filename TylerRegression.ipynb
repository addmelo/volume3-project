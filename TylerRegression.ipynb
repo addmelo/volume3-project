{
 "cells": [
  {
   "cell_type": "code",
   "execution_count": 16,
   "metadata": {},
   "outputs": [],
   "source": [
    "import numpy as np\n",
    "import pandas as pd\n",
    "from sklearn.linear_model import LassoCV\n",
    "from sklearn.metrics import mean_squared_error\n",
    "from sklearn.metrics import r2_score\n",
    "from statsmodels.api import add_constant"
   ]
  },
  {
   "cell_type": "code",
   "execution_count": 17,
   "metadata": {},
   "outputs": [
    {
     "name": "stdout",
     "output_type": "stream",
     "text": [
      "['meanschooladministratorsalaryind', 'administratortoteachermeansalary', 'meanteachersalaryindollars', 'log_students', 'attendance21', 'attendance22', 'attendance_2022_minority_p', 'americanindian_2022_p', 'afamblack_2022_p', 'asian_2022_p', 'hispanic_2022_p', 'multiplerace_2022_p', 'pacificislander_2022_p', 'male_2022_p', 'white_2022_p', 'economicallydisadvantaged_2022_p', 'englishlearner_2022_p', 'studentwithadisability_2022_p', 'homeless_2022_p', 'charter']\n",
      "['leaname', 'school', 'leatype', 'act21', 'act22', 'english21', 'english22', 'math21', 'math22', 'reading21', 'reading22', 'science21', 'science22', 'students_11_12', 'grade_9_2022', 'grade_10_2022', 'grade_11_2022', 'grade_12_2022', 'female_2022_p', 'gradrate', 'cohortyear', 'schoolid_y', 'totalk12_2022', 'district'] \n",
      "\n",
      "Selected features Lasso: ['meanschooladministratorsalaryind' 'meanteachersalaryindollars'\n",
      " 'log_students' 'attendance21' 'attendance22' 'attendance_2022_minority_p'\n",
      " 'afamblack_2022_p' 'asian_2022_p' 'hispanic_2022_p'\n",
      " 'economicallydisadvantaged_2022_p' 'englishlearner_2022_p'\n",
      " 'studentwithadisability_2022_p' 'charter']\n",
      "Unselected features Lasso: ['administratortoteachermeansalary' 'americanindian_2022_p'\n",
      " 'multiplerace_2022_p' 'pacificislander_2022_p' 'male_2022_p'\n",
      " 'white_2022_p' 'homeless_2022_p']\n",
      "Best MSE Lasso: 2.3695943585182304\n",
      "Best R2 Lasso: 0.5993858967621976\n",
      "\n",
      "\n",
      "\n"
     ]
    }
   ],
   "source": [
    "#Read in Dataset, drop appropriate columns\n",
    "full_dataset = pd.read_csv('cleaned_with_salaries.csv')\n",
    "full_dataset = full_dataset.fillna(0)\n",
    "schoolnames = full_dataset['school']\n",
    "columns = full_dataset.columns\n",
    "to_drop = ['leaname','school', 'leatype','act21', 'act22', 'english21',\n",
    "       'english22', 'math21', 'math22', 'reading21', 'reading22', 'science21',\n",
    "       'science22', 'students_11_12','grade_9_2022', 'grade_10_2022',\n",
    "       'grade_11_2022', 'grade_12_2022','female_2022_p']\n",
    "to_drop = to_drop + ['gradrate','cohortyear','schoolid_y','totalk12_2022','district']\n",
    "X = full_dataset.drop(columns=to_drop)\n",
    "y = full_dataset['act22']\n",
    "\n",
    "#Do L1 regularization with sklearn\n",
    "reg_lasso = LassoCV(alphas=np.logspace(-4, 3, 15),max_iter=100000)\n",
    "reg_lasso.fit(X, y,sample_weight=full_dataset['students_11_12']) # Fit the model\n",
    "lasso_pred = reg_lasso.predict(X) # Best parameter values\n",
    "MSE_lasso = mean_squared_error(y,lasso_pred)\n",
    "R2_lasso = r2_score(y,lasso_pred)\n",
    "params = reg_lasso.coef_\n",
    "zero_index = params==0\n",
    "not_selected_features_lasso = np.array(X.columns)[zero_index]\n",
    "selected_features_lasso = np.array(X.columns)[~zero_index]\n",
    "\n",
    "print([item for item in columns if item not in to_drop])\n",
    "print(to_drop,'\\n')\n",
    "print(f'Selected features Lasso: {selected_features_lasso}')\n",
    "print(f'Unselected features Lasso: {not_selected_features_lasso}')\n",
    "print(f\"Best MSE Lasso: {MSE_lasso}\")\n",
    "print(f\"Best R2 Lasso: {R2_lasso}\")\n",
    "print('\\n\\n')"
   ]
  },
  {
   "cell_type": "markdown",
   "metadata": {},
   "source": [
    "Do Same analysis but with district instead of salary"
   ]
  },
  {
   "cell_type": "code",
   "execution_count": 18,
   "metadata": {},
   "outputs": [
    {
     "name": "stdout",
     "output_type": "stream",
     "text": [
      "Selected features Lasso: ['attendance21' 'attendance22' 'attendance_2022_minority_p'\n",
      " 'afamblack_2022_p' 'asian_2022_p' 'hispanic_2022_p' 'multiplerace_2022_p'\n",
      " 'grade_9_2022' 'grade_10_2022' 'grade_11_2022' 'grade_12_2022'\n",
      " 'female_2022_p' 'white_2022_p' 'economicallydisadvantaged_2022_p'\n",
      " 'studentwithadisability_2022_p' 'homeless_2022_p' 'charter' 'district']\n",
      "Unselected features Lasso: ['log_students' 'americanindian_2022_p' 'pacificislander_2022_p'\n",
      " 'male_2022_p' 'englishlearner_2022_p']\n",
      "Best MSE Lasso: 1.8491786469507638\n",
      "Best R2 Lasso: 0.6807222662349006\n",
      "\n",
      "\n",
      "\n"
     ]
    }
   ],
   "source": [
    "#Read in Dataset, drop appropriate columns\n",
    "full_dataset = pd.read_csv('cleaned_with_salaries.csv')\n",
    "full_dataset = full_dataset.dropna(axis=0)\n",
    "schoolnames = full_dataset['school']\n",
    "columns = full_dataset.columns\n",
    "to_drop = ['leaname','school', 'leatype','act21', 'act22', 'english21',\n",
    "       'english22', 'math21', 'math22', 'reading21', 'reading22', 'science21',\n",
    "       'science22', 'students_11_12',     'gradrate','cohortyear','schoolid_y','totalk12_2022','meanschooladministratorsalaryind',\n",
    "       'administratortoteachermeansalary', 'meanteachersalaryindollars']\n",
    "X = full_dataset.drop(columns=to_drop)\n",
    "y = full_dataset['act22']\n",
    "\n",
    "#Do L1 regularization with sklearn\n",
    "reg_lasso = LassoCV(alphas=np.logspace(-4, 3, 8),max_iter=100000)\n",
    "reg_lasso.fit(X, y,sample_weight=full_dataset['students_11_12']) # Fit the model\n",
    "lasso_pred = reg_lasso.predict(X) # Best parameter values\n",
    "MSE_lasso = mean_squared_error(y,lasso_pred)\n",
    "R2_lasso = r2_score(y,lasso_pred)\n",
    "params = reg_lasso.coef_\n",
    "zero_index = params==0\n",
    "not_selected_features_lasso = np.array(X.columns)[zero_index]\n",
    "selected_features_lasso = np.array(X.columns)[~zero_index]\n",
    "\n",
    "print(f'Selected features Lasso: {selected_features_lasso}')\n",
    "print(f'Unselected features Lasso: {not_selected_features_lasso}')\n",
    "print(f\"Best MSE Lasso: {MSE_lasso}\")\n",
    "print(f\"Best R2 Lasso: {R2_lasso}\")\n",
    "print('\\n\\n')"
   ]
  },
  {
   "cell_type": "markdown",
   "metadata": {},
   "source": [
    "Include all - INCLUDE THIS ONE IN THE FINAL REPORT"
   ]
  },
  {
   "cell_type": "code",
   "execution_count": 24,
   "metadata": {},
   "outputs": [
    {
     "name": "stdout",
     "output_type": "stream",
     "text": [
      "\n",
      "Selected features Lasso:\n",
      "log_students, attendance21, attendance22, afamblack_2022_p, asian_2022_p, hispanic_2022_p, economicallydisadvantaged_2022_p, englishlearner_2022_p, studentwithadisability_2022_p, charter\n",
      "\n",
      "Unselected features Lasso:\n",
      "meanschooladministratorsalaryind, administratortoteachermeansalary, meanteachersalaryindollars, americanindian_2022_p, multiplerace_2022_p, pacificislander_2022_p, male_2022_p, homeless_2022_p\n",
      "\n",
      "Params Lasso: [ 0.          0.          0.          0.4061693   0.44135415  0.9696068\n",
      "  0.         -5.40312234 13.76860745 -4.05829705  0.          0.\n",
      "  0.         -4.25693717 -1.23854425 -7.13236527  0.          1.50829298]\n",
      "\n",
      "Best MSE Lasso: 2.3745828138971388\n",
      "Best R2 Lasso: 0.5985425264313309\n",
      "\n"
     ]
    }
   ],
   "source": [
    "#Read in Dataset, drop appropriate columns\n",
    "full_dataset = pd.read_csv('cleaned_with_salaries.csv')\n",
    "full_dataset = full_dataset.fillna(0)\n",
    "schoolnames = full_dataset['school']\n",
    "columns = full_dataset.columns\n",
    "to_drop = ['leaname','school', 'leatype','act21', 'act22', 'english21',\n",
    "       'english22', 'math21', 'math22', 'reading21', 'reading22', 'science21','grade_9_2022','grade_10_2022','grade_11_2022', 'grade_12_2022',\n",
    "       'science22', 'students_11_12','gradrate','cohortyear','schoolid_y','totalk12_2022','female_2022_p','white_2022_p','district','attendance_2022_minority_p']\n",
    "X = full_dataset.drop(columns=to_drop)\n",
    "y = full_dataset['act22']\n",
    "\n",
    "#Do L1 regularization with sklearn\n",
    "reg_lasso = LassoCV(alphas=np.logspace(-4, 20, 100),max_iter=100000)\n",
    "reg_lasso.fit(X, y,sample_weight=full_dataset['students_11_12']) # Fit the model\n",
    "lasso_pred = reg_lasso.predict(X) # Best parameter values\n",
    "MSE_lasso = mean_squared_error(y,lasso_pred)\n",
    "R2_lasso = r2_score(y,lasso_pred)\n",
    "params = reg_lasso.coef_\n",
    "params[np.abs(params) <1e-2] = 0\n",
    "zero_index = params==0\n",
    "not_selected_features_lasso = np.array(X.columns)[zero_index]\n",
    "selected_features_lasso = np.array(X.columns)[~zero_index]\n",
    "\n",
    "selected_features_lasso_str = ', '.join(map(str, selected_features_lasso))\n",
    "not_selected_features_lasso_str = ', '.join(map(str, not_selected_features_lasso))\n",
    "print(f'''\n",
    "Selected features Lasso:\\n{selected_features_lasso_str}\\n\n",
    "Unselected features Lasso:\\n{not_selected_features_lasso_str}\\n\n",
    "Params Lasso: {params}\\n\n",
    "Best MSE Lasso: {MSE_lasso}\n",
    "Best R2 Lasso: {R2_lasso}\n",
    "''')"
   ]
  },
  {
   "cell_type": "code",
   "execution_count": null,
   "metadata": {},
   "outputs": [
    {
     "name": "stdout",
     "output_type": "stream",
     "text": [
      "Selected features Lasso: []\n",
      "Unselected features Lasso: ['meanschooladministratorsalaryind' 'administratortoteachermeansalary'\n",
      " 'meanteachersalaryindollars']\n",
      "Best MSE Lasso: 6.349716192803665\n",
      "Best R2 Lasso: -0.0735111050759294\n",
      "\n",
      "\n",
      "\n"
     ]
    }
   ],
   "source": [
    "#Only look at salary Data:\n",
    "to_include = ['meanschooladministratorsalaryind','administratortoteachermeansalary', 'meanteachersalaryindollars']\n",
    "X = full_dataset[to_include]\n",
    "y = full_dataset['act22']\n",
    "\n",
    "#Do L1 regularization with sklearn\n",
    "reg_lasso = LassoCV(alphas=np.logspace(-4, 3, 8),max_iter=100000)\n",
    "reg_lasso.fit(X, y,sample_weight=full_dataset['students_11_12']) # Fit the model\n",
    "lasso_pred = reg_lasso.predict(X) # Best parameter values\n",
    "MSE_lasso = mean_squared_error(y,lasso_pred)\n",
    "R2_lasso = r2_score(y,lasso_pred)\n",
    "params = reg_lasso.coef_\n",
    "zero_index = params==0\n",
    "not_selected_features_lasso = np.array(X.columns)[zero_index]\n",
    "selected_features_lasso = np.array(X.columns)[~zero_index]\n",
    "\n",
    "print(f'Selected features Lasso: {selected_features_lasso}')\n",
    "print(f'Unselected features Lasso: {not_selected_features_lasso}')\n",
    "print(f\"Best MSE Lasso: {MSE_lasso}\")\n",
    "print(f\"Best R2 Lasso: {R2_lasso}\")\n",
    "print('\\n\\n')"
   ]
  }
 ],
 "metadata": {
  "kernelspec": {
   "display_name": "Python 3",
   "language": "python",
   "name": "python3"
  },
  "language_info": {
   "codemirror_mode": {
    "name": "ipython",
    "version": 3
   },
   "file_extension": ".py",
   "mimetype": "text/x-python",
   "name": "python",
   "nbconvert_exporter": "python",
   "pygments_lexer": "ipython3",
   "version": "3.10.12"
  }
 },
 "nbformat": 4,
 "nbformat_minor": 2
}
