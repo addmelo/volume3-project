{
 "cells": [
  {
   "cell_type": "code",
   "execution_count": 1,
   "metadata": {},
   "outputs": [],
   "source": [
    "import numpy as np\n",
    "import pandas as pd"
   ]
  },
  {
   "cell_type": "markdown",
   "metadata": {},
   "source": [
    "## Cleaning the Graduation Rates Data:"
   ]
  },
  {
   "cell_type": "code",
   "execution_count": 5,
   "metadata": {},
   "outputs": [
    {
     "data": {
      "text/html": [
       "<div>\n",
       "<style scoped>\n",
       "    .dataframe tbody tr th:only-of-type {\n",
       "        vertical-align: middle;\n",
       "    }\n",
       "\n",
       "    .dataframe tbody tr th {\n",
       "        vertical-align: top;\n",
       "    }\n",
       "\n",
       "    .dataframe thead th {\n",
       "        text-align: right;\n",
       "    }\n",
       "</style>\n",
       "<table border=\"1\" class=\"dataframe\">\n",
       "  <thead>\n",
       "    <tr style=\"text-align: right;\">\n",
       "      <th></th>\n",
       "      <th>Cohort Year</th>\n",
       "      <th>LEA Type</th>\n",
       "      <th>LEA Name</th>\n",
       "      <th>School Name</th>\n",
       "      <th>Group Cohort Count</th>\n",
       "      <th>Group Cohort Grad Rate Masked</th>\n",
       "    </tr>\n",
       "  </thead>\n",
       "  <tbody>\n",
       "    <tr>\n",
       "      <th>0</th>\n",
       "      <td>2022</td>\n",
       "      <td>Charter</td>\n",
       "      <td>Academy for Math Engineering &amp; Science</td>\n",
       "      <td>Academy for Math Engineering &amp; Science</td>\n",
       "      <td>116.0</td>\n",
       "      <td>0.966</td>\n",
       "    </tr>\n",
       "    <tr>\n",
       "      <th>13</th>\n",
       "      <td>2022</td>\n",
       "      <td>Charter</td>\n",
       "      <td>American Academy of Innovation</td>\n",
       "      <td>American Academy of Innovation</td>\n",
       "      <td>55.0</td>\n",
       "      <td>0.891</td>\n",
       "    </tr>\n",
       "    <tr>\n",
       "      <th>26</th>\n",
       "      <td>2022</td>\n",
       "      <td>Charter</td>\n",
       "      <td>American International School of Utah</td>\n",
       "      <td>American International School of Utah</td>\n",
       "      <td>10.0</td>\n",
       "      <td>&lt; 20%</td>\n",
       "    </tr>\n",
       "    <tr>\n",
       "      <th>39</th>\n",
       "      <td>2022</td>\n",
       "      <td>Charter</td>\n",
       "      <td>American Leadership Academy</td>\n",
       "      <td>American Leadership Academy</td>\n",
       "      <td>130.0</td>\n",
       "      <td>0.954</td>\n",
       "    </tr>\n",
       "    <tr>\n",
       "      <th>52</th>\n",
       "      <td>2022</td>\n",
       "      <td>Charter</td>\n",
       "      <td>American Preparatory Academy</td>\n",
       "      <td>American Preparatory Academy - Accelerated School</td>\n",
       "      <td>78.0</td>\n",
       "      <td>&gt;= 95%</td>\n",
       "    </tr>\n",
       "  </tbody>\n",
       "</table>\n",
       "</div>"
      ],
      "text/plain": [
       "    Cohort Year LEA Type                                LEA Name  \\\n",
       "0          2022  Charter  Academy for Math Engineering & Science   \n",
       "13         2022  Charter          American Academy of Innovation   \n",
       "26         2022  Charter   American International School of Utah   \n",
       "39         2022  Charter             American Leadership Academy   \n",
       "52         2022  Charter            American Preparatory Academy   \n",
       "\n",
       "                                          School Name  Group Cohort Count  \\\n",
       "0              Academy for Math Engineering & Science               116.0   \n",
       "13                     American Academy of Innovation                55.0   \n",
       "26              American International School of Utah                10.0   \n",
       "39                        American Leadership Academy               130.0   \n",
       "52  American Preparatory Academy - Accelerated School                78.0   \n",
       "\n",
       "   Group Cohort Grad Rate Masked  \n",
       "0                          0.966  \n",
       "13                         0.891  \n",
       "26                         < 20%  \n",
       "39                         0.954  \n",
       "52                        >= 95%  "
      ]
     },
     "execution_count": 5,
     "metadata": {},
     "output_type": "execute_result"
    }
   ],
   "source": [
    "data = pd.read_excel('Data/GraduationRatesStudentGroup2022.xlsx',sheet_name=\"School\")\n",
    "\n",
    "data.head()\n",
    "mask_all = data[\"Group\"] == \"All Students\"\n",
    "\n",
    "df_all = data[mask_all]\n",
    "df_all= df_all[[\"Cohort Year\",\"LEA Type\",\"LEA Name\",\"School Name\",\"Group Cohort Count\", \"Group Cohort Grad Rate Masked\"]]\n",
    "df_all.head()"
   ]
  },
  {
   "cell_type": "code",
   "execution_count": 57,
   "metadata": {},
   "outputs": [
    {
     "name": "stderr",
     "output_type": "stream",
     "text": [
      "/tmp/ipykernel_720/1653041638.py:3: SettingWithCopyWarning: \n",
      "A value is trying to be set on a copy of a slice from a DataFrame\n",
      "\n",
      "See the caveats in the documentation: https://pandas.pydata.org/pandas-docs/stable/user_guide/indexing.html#returning-a-view-versus-a-copy\n",
      "  df_all[\"Grad Rate\"].loc[df_all[\"Grad Rate\"].isnull()] = df_all[\"Group Cohort Grad Rate Masked\"].loc[df_all[\"Grad Rate\"].isnull()].astype(float)\n",
      "/tmp/ipykernel_720/1653041638.py:4: SettingWithCopyWarning: \n",
      "A value is trying to be set on a copy of a slice from a DataFrame\n",
      "\n",
      "See the caveats in the documentation: https://pandas.pydata.org/pandas-docs/stable/user_guide/indexing.html#returning-a-view-versus-a-copy\n",
      "  df_all[\"Grad Rate\"].loc[df_all[\"Grad Rate\"] > 1] = df_all[\"Grad Rate\"].loc[df_all[\"Grad Rate\"] > 1]/100\n"
     ]
    }
   ],
   "source": [
    "df_all = df_all[df_all[\"Group Cohort Grad Rate Masked\"] != \"n< 10\"]\n",
    "df_all[\"Grad Rate\"] = df_all[\"Group Cohort Grad Rate Masked\"].str.extract(r'(\\d+)-*', expand=False).astype(float)\n",
    "df_all[\"Grad Rate\"].loc[df_all[\"Grad Rate\"].isnull()] = df_all[\"Group Cohort Grad Rate Masked\"].loc[df_all[\"Grad Rate\"].isnull()].astype(float)\n",
    "df_all[\"Grad Rate\"].loc[df_all[\"Grad Rate\"] > 1] = df_all[\"Grad Rate\"].loc[df_all[\"Grad Rate\"] > 1]/100\n",
    "df_all.loc[df_all[\"LEA Type\"] != \"Charter\"].head(20)\n",
    "\n",
    "df_all[[\"Cohort Year\",\"LEA Type\",\"LEA Name\", \"School Name\", \"Grad Rate\"]].to_csv(\"GradRates.csv\")"
   ]
  }
 ],
 "metadata": {
  "kernelspec": {
   "display_name": "Python 3",
   "language": "python",
   "name": "python3"
  },
  "language_info": {
   "codemirror_mode": {
    "name": "ipython",
    "version": 3
   },
   "file_extension": ".py",
   "mimetype": "text/x-python",
   "name": "python",
   "nbconvert_exporter": "python",
   "pygments_lexer": "ipython3",
   "version": "3.10.12"
  }
 },
 "nbformat": 4,
 "nbformat_minor": 2
}
