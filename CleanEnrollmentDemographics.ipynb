{
 "cells": [
  {
   "cell_type": "code",
   "execution_count": 36,
   "id": "a2eff023",
   "metadata": {},
   "outputs": [],
   "source": [
    "import numpy as np\n",
    "import pandas as pd"
   ]
  },
  {
   "cell_type": "code",
   "execution_count": 37,
   "id": "27363b90",
   "metadata": {},
   "outputs": [],
   "source": [
    "# Load in each dataset\n",
    "data21 = pd.read_excel(\"Data/2021 Enrollment Demographics.xlsx\", sheet_name=\"By School\")\n",
    "data22 = pd.read_excel(\"Data/2022 Enrollment Demographics.xlsx\", sheet_name=\"By School\")\n",
    "data23 = pd.read_excel(\"Data/2023 Enrollment Demographics.xlsx\", sheet_name=\"By School\")"
   ]
  },
  {
   "cell_type": "code",
   "execution_count": 38,
   "id": "4f314f4a",
   "metadata": {},
   "outputs": [
    {
     "data": {
      "text/html": [
       "<div>\n",
       "<style scoped>\n",
       "    .dataframe tbody tr th:only-of-type {\n",
       "        vertical-align: middle;\n",
       "    }\n",
       "\n",
       "    .dataframe tbody tr th {\n",
       "        vertical-align: top;\n",
       "    }\n",
       "\n",
       "    .dataframe thead th {\n",
       "        text-align: right;\n",
       "    }\n",
       "</style>\n",
       "<table border=\"1\" class=\"dataframe\">\n",
       "  <thead>\n",
       "    <tr style=\"text-align: right;\">\n",
       "      <th></th>\n",
       "      <th>School Name</th>\n",
       "      <th>CompositeSchoolID</th>\n",
       "    </tr>\n",
       "  </thead>\n",
       "  <tbody>\n",
       "    <tr>\n",
       "      <th>0</th>\n",
       "      <td>A to Z Building Blocks American Fork on 100 East</td>\n",
       "      <td>186651186697901</td>\n",
       "    </tr>\n",
       "    <tr>\n",
       "      <th>1</th>\n",
       "      <td>A to Z Building Blocks American Fork on 300 East</td>\n",
       "      <td>186651186698902</td>\n",
       "    </tr>\n",
       "    <tr>\n",
       "      <th>2</th>\n",
       "      <td>A to Z Building Blocks Draper</td>\n",
       "      <td>186651186699903</td>\n",
       "    </tr>\n",
       "    <tr>\n",
       "      <th>3</th>\n",
       "      <td>A to Z Building Blocks in Spanish Fork</td>\n",
       "      <td>186651186727906</td>\n",
       "    </tr>\n",
       "    <tr>\n",
       "      <th>4</th>\n",
       "      <td>A to Z Building Blocks on Ranches Parkway</td>\n",
       "      <td>186651186700904</td>\n",
       "    </tr>\n",
       "    <tr>\n",
       "      <th>...</th>\n",
       "      <td>...</td>\n",
       "      <td>...</td>\n",
       "    </tr>\n",
       "    <tr>\n",
       "      <th>423</th>\n",
       "      <td>Weber State University Charter Academy</td>\n",
       "      <td>186314186315100</td>\n",
       "    </tr>\n",
       "    <tr>\n",
       "      <th>424</th>\n",
       "      <td>Whitmore Academy</td>\n",
       "      <td>145604145604951</td>\n",
       "    </tr>\n",
       "    <tr>\n",
       "      <th>425</th>\n",
       "      <td>Willow Creek School</td>\n",
       "      <td>186003186003952</td>\n",
       "    </tr>\n",
       "    <tr>\n",
       "      <th>426</th>\n",
       "      <td>Winter Sports School</td>\n",
       "      <td>186187186187999</td>\n",
       "    </tr>\n",
       "    <tr>\n",
       "      <th>427</th>\n",
       "      <td>Youth Foundations Academy</td>\n",
       "      <td>14231423656</td>\n",
       "    </tr>\n",
       "  </tbody>\n",
       "</table>\n",
       "<p>1805 rows × 2 columns</p>\n",
       "</div>"
      ],
      "text/plain": [
       "                                          School Name CompositeSchoolID\n",
       "0    A to Z Building Blocks American Fork on 100 East   186651186697901\n",
       "1    A to Z Building Blocks American Fork on 300 East   186651186698902\n",
       "2                       A to Z Building Blocks Draper   186651186699903\n",
       "3              A to Z Building Blocks in Spanish Fork   186651186727906\n",
       "4           A to Z Building Blocks on Ranches Parkway   186651186700904\n",
       "..                                                ...               ...\n",
       "423            Weber State University Charter Academy   186314186315100\n",
       "424                                  Whitmore Academy   145604145604951\n",
       "425                               Willow Creek School   186003186003952\n",
       "426                              Winter Sports School   186187186187999\n",
       "427                         Youth Foundations Academy       14231423656\n",
       "\n",
       "[1805 rows x 2 columns]"
      ]
     },
     "execution_count": 38,
     "metadata": {},
     "output_type": "execute_result"
    }
   ],
   "source": [
    "nameIndex = pd.read_excel(\"Data/Another School List.xlsx\", sheet_name=\"School\")\n",
    "# Some schools have closed, so it is necessary to include them\n",
    "closed = pd.read_excel(\"Data/Another School List.xlsx\", sheet_name=\"Closed Schools\")\n",
    "\n",
    "# The CompositeSchoolID is composed of the LEA ID, the School ID, and the School Number\n",
    "nameIndex[\"CompositeSchoolID\"] = nameIndex[\"LEA ID\"].astype(str) + nameIndex[\"School ID\"].astype(str) + nameIndex[\"School Number\"].astype(str)\n",
    "closed[\"CompositeSchoolID\"] = closed[\"LEA ID\"].astype(str) + closed[\"School ID\"].astype(str) + closed[\"School Number\"].astype(str)\n",
    "nameIndex = nameIndex[[\"LEA Name\", \"School Name\", \"CompositeSchoolID\"]]\n",
    "closed = closed[[\"LEA Name\", \"School Name\", \"CompositeSchoolID\"]]\n",
    "\n",
    "nameIndex = pd.concat([nameIndex, closed])\n",
    "\n",
    "# There are a few leftover schools after matching. The dataset will be altered to match those\n",
    "changeDict = {\n",
    "    \"Cache Alternative High\": \"Cache High\",\n",
    "    \"Big Water School\": \"Big Water High\",\n",
    "    \"Pleasant Creek School\": \"Pleasant Creek High School\",\n",
    "    \"Ashley Valley Education Ctr.\": \"Ashley Valley Educ. Ctr.\",\n",
    "    \"InTech Collegiate Academy\": \"Intech Collegiate Academy\",\n",
    "    \"No. UT. Acad. of Math Engineering & Science - Ogden\": \"No. UT. Acad. of Math Engineering & Science Ogden\",\n",
    "    \"Salt Lake Academy High School\": \"Real Salt Lake Academy High School\",\n",
    "    \"Spectrum Academy\": \"Spectrum Academy - NSL\",\n",
    "    \"Success Academy\": \"Success SUU\"\n",
    "}\n",
    "nameIndex[\"School Name\"] = nameIndex[\"School Name\"].replace(changeDict)\n",
    "\n",
    "del nameIndex[\"LEA Name\"]\n",
    "\n",
    "nameIndex"
   ]
  },
  {
   "cell_type": "code",
   "execution_count": 39,
   "id": "5e9f53d1",
   "metadata": {},
   "outputs": [],
   "source": [
    "def CleanEnrollmentDemographics(data):\n",
    "    \"\"\"Cleans the dataset\"\"\"\n",
    "    \"\"\"Parameters: data (pandas dataframe)\"\"\"\n",
    "    \"\"\"Returns: cleaned (pandas dataframe)\"\"\"\n",
    "    cleaned = data.copy()\n",
    "    \n",
    "    # Drop all the non-high schools.\n",
    "    cleaned = cleaned[cleaned['Grade_12'] > 0]\n",
    "    cleaned = cleaned[cleaned['Grade_11'] > 0]\n",
    "    \n",
    "    # Drop irrelevant columns\n",
    "    irrelevantColumns = [\"Grade_\" + str(i) for i in range(1,9)] # I'm choosing to include grade 9, for now.\n",
    "    irrelevantColumns += [\"K\", \"Preschool\"]\n",
    "    cleaned = cleaned.drop(irrelevantColumns, axis=\"columns\")\n",
    "    \n",
    "    # Merge to add the composite school id\n",
    "    cleaned = cleaned.merge(nameIndex, how=\"left\", on=\"School Name\")\n",
    "    \n",
    "    # Drop the double-up LEA columns\n",
    "    \n",
    "    return cleaned"
   ]
  },
  {
   "cell_type": "code",
   "execution_count": 40,
   "id": "3cb895d5",
   "metadata": {},
   "outputs": [],
   "source": [
    "clean21 = CleanEnrollmentDemographics(data21)"
   ]
  },
  {
   "cell_type": "code",
   "execution_count": 41,
   "id": "e4326d69",
   "metadata": {},
   "outputs": [],
   "source": [
    "clean22 = CleanEnrollmentDemographics(data22)"
   ]
  },
  {
   "cell_type": "code",
   "execution_count": 42,
   "id": "aa80fadc",
   "metadata": {},
   "outputs": [],
   "source": [
    "clean23 = CleanEnrollmentDemographics(data23)"
   ]
  },
  {
   "cell_type": "code",
   "execution_count": 43,
   "id": "205b7c06",
   "metadata": {},
   "outputs": [],
   "source": [
    "fullData = pd.concat([clean21, clean22, clean23])\n",
    "fullData.to_csv('Cleaned Datasets/EnrollmentDemographics_Cleaned.csv')"
   ]
  },
  {
   "cell_type": "code",
   "execution_count": null,
   "id": "067bf98c",
   "metadata": {},
   "outputs": [],
   "source": []
  }
 ],
 "metadata": {
  "kernelspec": {
   "display_name": "Python 3 (ipykernel)",
   "language": "python",
   "name": "python3"
  },
  "language_info": {
   "codemirror_mode": {
    "name": "ipython",
    "version": 3
   },
   "file_extension": ".py",
   "mimetype": "text/x-python",
   "name": "python",
   "nbconvert_exporter": "python",
   "pygments_lexer": "ipython3",
   "version": "3.9.18"
  }
 },
 "nbformat": 4,
 "nbformat_minor": 5
}
